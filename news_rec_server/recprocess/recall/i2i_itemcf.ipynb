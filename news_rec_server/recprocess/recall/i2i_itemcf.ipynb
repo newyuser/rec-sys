{
 "cells": [
  {
   "cell_type": "code",
   "execution_count": 1,
   "id": "b06bec9d",
   "metadata": {},
   "outputs": [
    {
     "name": "stderr",
     "output_type": "stream",
     "text": [
      "/home/harry/miniconda3/envs/news_rec_py3/lib/python3.8/site-packages/tqdm/auto.py:21: TqdmWarning: IProgress not found. Please update jupyter and ipywidgets. See https://ipywidgets.readthedocs.io/en/stable/user_install.html\n",
      "  from .autonotebook import tqdm as notebook_tqdm\n"
     ]
    },
    {
     "ename": "ModuleNotFoundError",
     "evalue": "No module named 'metric'",
     "output_type": "error",
     "traceback": [
      "\u001b[0;31m---------------------------------------------------------------------------\u001b[0m",
      "\u001b[0;31mModuleNotFoundError\u001b[0m                       Traceback (most recent call last)",
      "Cell \u001b[0;32mIn[1], line 13\u001b[0m\n\u001b[1;32m     11\u001b[0m \u001b[38;5;28;01mfrom\u001b[39;00m \u001b[38;5;21;01msklearn\u001b[39;00m\u001b[38;5;21;01m.\u001b[39;00m\u001b[38;5;21;01mutils\u001b[39;00m \u001b[38;5;28;01mimport\u001b[39;00m shuffle\n\u001b[1;32m     12\u001b[0m \u001b[38;5;28;01mfrom\u001b[39;00m \u001b[38;5;21;01mcollections\u001b[39;00m \u001b[38;5;28;01mimport\u001b[39;00m defaultdict\n\u001b[0;32m---> 13\u001b[0m \u001b[38;5;28;01mfrom\u001b[39;00m \u001b[38;5;21;01mmetric\u001b[39;00m \u001b[38;5;28;01mimport\u001b[39;00m PrintMetric\n\u001b[1;32m     15\u001b[0m \u001b[38;5;28;01mimport\u001b[39;00m \u001b[38;5;21;01mwarnings\u001b[39;00m\n\u001b[1;32m     16\u001b[0m warnings\u001b[38;5;241m.\u001b[39mfilterwarnings(\u001b[38;5;124m\"\u001b[39m\u001b[38;5;124mignore\u001b[39m\u001b[38;5;124m\"\u001b[39m)\n",
      "\u001b[0;31mModuleNotFoundError\u001b[0m: No module named 'metric'"
     ]
    }
   ],
   "source": [
    "import gc\n",
    "import os\n",
    "import math\n",
    "import pickle\n",
    "\n",
    "import numpy as np\n",
    "import pandas as pd\n",
    "from tqdm.auto import tqdm\n",
    "from operator import itemgetter\n",
    "\n",
    "from sklearn.utils import shuffle\n",
    "from collections import defaultdict\n",
    "# from metrics import PrintMetric\n",
    "\n",
    "import warnings\n",
    "warnings.filterwarnings(\"ignore\")\n",
    "\n",
    "raw_data_path = '../rank/examples/dataset/raw_data_sample'\n",
    "new_data_path = '../rank/examples/dataset/new_data_sample'\n",
    "\n",
    "os.makedirs(new_data_path, exist_ok=True)"
   ]
  },
  {
   "cell_type": "code",
   "execution_count": null,
   "id": "56cf8a00",
   "metadata": {},
   "outputs": [],
   "source": [
    "user_info = pd.read_csv(raw_data_path + '/user_info.csv', header=None)\n",
    "user_info.columns = [\"user_id\", \"设备名称\", \"操作系统\", \"所在省\", \"所在市\", \"年龄\",\"性别\"]\n",
    "\n",
    "doc_info = pd.read_csv(raw_data_path + '/doc_info.csv', header=None)\n",
    "doc_info.columns = [\"item_id\", \"标题\", \"发文时间\", \"图片数量\",  \"一级分类\", \"二级分类\", \"关键词\"]\n",
    "\n",
    "all_data = pd.read_csv(raw_data_path + '/train_data.csv', header=None)\n",
    "all_data.columns = [\"user_id\", \"item_id\", \"展现时间\", \"网路环境\", \"刷新次数\", \"展现位置\", \"是否点击\", \"消费时长（秒）\"]"
   ]
  },
  {
   "cell_type": "code",
   "execution_count": 5,
   "metadata": {
    "collapsed": false,
    "pycharm": {
     "name": "#%%\n"
    }
   },
   "outputs": [
    {
     "data": {
      "text/html": [
       "<div>\n",
       "<style scoped>\n",
       "    .dataframe tbody tr th:only-of-type {\n",
       "        vertical-align: middle;\n",
       "    }\n",
       "\n",
       "    .dataframe tbody tr th {\n",
       "        vertical-align: top;\n",
       "    }\n",
       "\n",
       "    .dataframe thead th {\n",
       "        text-align: right;\n",
       "    }\n",
       "</style>\n",
       "<table border=\"1\" class=\"dataframe\">\n",
       "  <thead>\n",
       "    <tr style=\"text-align: right;\">\n",
       "      <th></th>\n",
       "      <th>user_id</th>\n",
       "      <th>item_id</th>\n",
       "      <th>展现时间</th>\n",
       "      <th>网路环境</th>\n",
       "      <th>刷新次数</th>\n",
       "      <th>展现位置</th>\n",
       "      <th>是否点击</th>\n",
       "      <th>消费时长（秒）</th>\n",
       "      <th>展现时间_日期</th>\n",
       "    </tr>\n",
       "  </thead>\n",
       "  <tbody>\n",
       "    <tr>\n",
       "      <th>0</th>\n",
       "      <td>1000014754</td>\n",
       "      <td>463510256</td>\n",
       "      <td>2021-06-28 01:29:16</td>\n",
       "      <td>5</td>\n",
       "      <td>0</td>\n",
       "      <td>16</td>\n",
       "      <td>0</td>\n",
       "      <td>0</td>\n",
       "      <td>28</td>\n",
       "    </tr>\n",
       "    <tr>\n",
       "      <th>1</th>\n",
       "      <td>1000014754</td>\n",
       "      <td>463852707</td>\n",
       "      <td>2021-06-28 01:29:16</td>\n",
       "      <td>5</td>\n",
       "      <td>0</td>\n",
       "      <td>13</td>\n",
       "      <td>1</td>\n",
       "      <td>80</td>\n",
       "      <td>28</td>\n",
       "    </tr>\n",
       "    <tr>\n",
       "      <th>2</th>\n",
       "      <td>1000014754</td>\n",
       "      <td>464757134</td>\n",
       "      <td>2021-06-30 11:36:39</td>\n",
       "      <td>5</td>\n",
       "      <td>0</td>\n",
       "      <td>13</td>\n",
       "      <td>1</td>\n",
       "      <td>1050</td>\n",
       "      <td>30</td>\n",
       "    </tr>\n",
       "    <tr>\n",
       "      <th>3</th>\n",
       "      <td>1000014754</td>\n",
       "      <td>464617167</td>\n",
       "      <td>2021-06-30 11:36:39</td>\n",
       "      <td>5</td>\n",
       "      <td>0</td>\n",
       "      <td>16</td>\n",
       "      <td>1</td>\n",
       "      <td>286</td>\n",
       "      <td>30</td>\n",
       "    </tr>\n",
       "    <tr>\n",
       "      <th>4</th>\n",
       "      <td>1000014754</td>\n",
       "      <td>465426190</td>\n",
       "      <td>2021-07-04 07:07:01</td>\n",
       "      <td>5</td>\n",
       "      <td>0</td>\n",
       "      <td>5</td>\n",
       "      <td>0</td>\n",
       "      <td>0</td>\n",
       "      <td>4</td>\n",
       "    </tr>\n",
       "  </tbody>\n",
       "</table>\n",
       "</div>"
      ],
      "text/plain": [
       "      user_id    item_id                展现时间  网路环境  刷新次数  展现位置  是否点击  消费时长（秒）  \\\n",
       "0  1000014754  463510256 2021-06-28 01:29:16     5     0    16     0        0   \n",
       "1  1000014754  463852707 2021-06-28 01:29:16     5     0    13     1       80   \n",
       "2  1000014754  464757134 2021-06-30 11:36:39     5     0    13     1     1050   \n",
       "3  1000014754  464617167 2021-06-30 11:36:39     5     0    16     1      286   \n",
       "4  1000014754  465426190 2021-07-04 07:07:01     5     0     5     0        0   \n",
       "\n",
       "   展现时间_日期  \n",
       "0       28  \n",
       "1       28  \n",
       "2       30  \n",
       "3       30  \n",
       "4        4  "
      ]
     },
     "execution_count": 5,
     "metadata": {},
     "output_type": "execute_result"
    }
   ],
   "source": [
    "all_data['展现时间'] = all_data['展现时间'].astype('str')\n",
    "all_data['展现时间'] = all_data['展现时间'].apply(lambda x: int(x[:10]))\n",
    "\n",
    "all_data['展现时间'] = pd.to_datetime(all_data['展现时间'], unit='s', errors='coerce')\n",
    "all_data['展现时间_日期'] = all_data['展现时间'].dt.day\n",
    "\n",
    "all_data.head()"
   ]
  },
  {
   "cell_type": "code",
   "execution_count": 6,
   "id": "73c9843e",
   "metadata": {},
   "outputs": [
    {
     "data": {
      "text/plain": [
       "179"
      ]
     },
     "execution_count": 6,
     "metadata": {},
     "output_type": "execute_result"
    }
   ],
   "source": [
    "mode = 'debug'\n",
    "\n",
    "if mode == 'debug':\n",
    "    all_data = shuffle(all_data)\n",
    "    all_data.reset_index(drop=True)\n",
    "\n",
    "    train_data = all_data[(all_data['展现时间_日期'] >= 5) & (all_data['展现时间_日期'] < 6)]\n",
    "    test_data = all_data.loc[all_data['展现时间_日期'] == 6, :]\n",
    "else:\n",
    "    train_data = all_data[(all_data['展现时间_日期'] >= 1) & (all_data['展现时间_日期'] < 6)]\n",
    "    test_data = all_data.loc[all_data['展现时间_日期'] == 6, :]\n",
    "\n",
    "# 训练集按照时间排序\n",
    "train_data.sort_values('展现时间', inplace=True)\n",
    "\n",
    "del all_data, doc_info, user_info\n",
    "gc.collect()"
   ]
  },
  {
   "cell_type": "code",
   "execution_count": 7,
   "metadata": {
    "collapsed": false,
    "pycharm": {
     "name": "#%%\n"
    }
   },
   "outputs": [
    {
     "name": "stdout",
     "output_type": "stream",
     "text": [
      "15655\n",
      "33664\n"
     ]
    }
   ],
   "source": [
    "print(train_data['user_id'].nunique())\n",
    "print(train_data['item_id'].nunique())"
   ]
  },
  {
   "cell_type": "markdown",
   "metadata": {
    "collapsed": false
   },
   "source": []
  },
  {
   "cell_type": "code",
   "execution_count": 9,
   "metadata": {
    "collapsed": false,
    "pycharm": {
     "name": "#%%\n"
    }
   },
   "outputs": [],
   "source": [
    "class ItemCF(object):\n",
    "    def __init__(self, his_data, item2cate):\n",
    "        self.user_set = set()\n",
    "        self.his_data = his_data\n",
    "        self.item2cate = item2cate\n",
    "\n",
    "        self.item_sim_matrix = dict()\n",
    "        self.item_interacted_num = defaultdict(int)\n",
    "\n",
    "    def calculate_similarity_matrix(self):\n",
    "        # his_data已经按照时间排序....\n",
    "        user2items = self.his_data.groupby('user_id')['item_id'].apply(list).reset_index()\n",
    "        # print(f'计算ItemCF第一阶段...')\n",
    "        pbar = tqdm(total=user2items.shape[0])\n",
    "        for idx, row in user2items.iterrows():\n",
    "            self.user_set.add(row['user_id'])\n",
    "            for idx1, item_1 in enumerate(row['item_id']):\n",
    "                self.item_interacted_num[item_1] += 1\n",
    "                self.item_sim_matrix.setdefault(item_1, {})\n",
    "                for idx2, item_2 in enumerate(row['item_id']):\n",
    "                    if item_1 == item_2:\n",
    "                        continue\n",
    "                    self.item_sim_matrix[item_1].setdefault(item_2, 0)\n",
    "                    # 新闻阅读可能具有连续性，后续阅读的新闻与前面阅读的新闻相似度更高\n",
    "                    related_score = 1 if idx1 > idx2 else 0.8\n",
    "                    # 如果二者类别相同，新闻之间的相似度更高\n",
    "                    related_score *= 1 if item2cate.get(item_1, None) == item2cate.get(item_2, None) else 0.5\n",
    "\n",
    "                    # 活跃用户在计算物品之间相似度时，贡献小于非活跃用户\n",
    "                    self.item_sim_matrix[item_1][item_2] += related_score / math.log(1 + len(row['item_id']))\n",
    "            pbar.update(1)\n",
    "        pbar.close()\n",
    "\n",
    "        # 理论上，物品之间共现的用户越多，相似度越高\n",
    "        # 但是，热门物品与很多物品之间的相似度都很高\n",
    "        # print(f'计算ItemCF第二阶段...')\n",
    "        for item_1, related_items in tqdm(self.item_sim_matrix.items()):\n",
    "            for item_2, weight in related_items.items():\n",
    "                # 打压热门物品\n",
    "                self.item_sim_matrix[item_1][item_2] = \\\n",
    "                    weight / math.sqrt(self.item_interacted_num[item_1] * self.item_interacted_num[item_2])\n",
    "\n",
    "    def __call__(self, users, _n=50, _topk=20):\n",
    "        print(f'开始ItemCF召回: Recall@{topk}-Near@{_n}')\n",
    "        user2items = self.his_data.groupby('user_id')['item_id'].apply(list)\n",
    "        popular_items = [val[0] for val in sorted(\n",
    "            self.item_interacted_num.items(), key=lambda x: x[1], reverse=True)[:_topk]]\n",
    "\n",
    "        user_rec = {}\n",
    "        for user_id in tqdm(users):\n",
    "            # 新用户，直接推荐热门物品\n",
    "            if user_id not in self.user_set:\n",
    "                user_rec[user_id] = popular_items\n",
    "            else:\n",
    "                rank = defaultdict(int)\n",
    "                his_items = user2items.loc[user_id]\n",
    "                # 遍历用户历史交互物品\n",
    "                for his_item in his_items:\n",
    "                    # 选取与his_item相似度最高的_n个物品\n",
    "                    for candidate_item, item_smi_score in sorted(self.item_sim_matrix[his_item].items(),\n",
    "                                                                 key=itemgetter(1), reverse=True)[:_n]:\n",
    "                        # 如果推荐的物品已经被购买过了，是否纳入推荐（可跳过）\n",
    "                        # if candidate_item in his_items:\n",
    "                        #     continue\n",
    "                        rank[candidate_item] += item_smi_score\n",
    "                rec_items = [item[0] for item in sorted(rank.items(), key=itemgetter(1), reverse=True)[:_topk]]\n",
    "                # 如果推荐的物品不够，用热门物品进行填充\n",
    "                rec_items += popular_items[:topk-len(rec_items)]\n",
    "                user_rec[user_id] = rec_items\n",
    "\n",
    "        return user_rec"
   ]
  },
  {
   "cell_type": "code",
   "execution_count": 10,
   "metadata": {
    "collapsed": false,
    "pycharm": {
     "name": "#%%\n"
    }
   },
   "outputs": [],
   "source": [
    "icf_cls_path = os.path.join(new_data_path, 'item_cf')\n",
    "os.makedirs(icf_cls_path, exist_ok=True)"
   ]
  },
  {
   "cell_type": "code",
   "execution_count": 12,
   "metadata": {
    "collapsed": false,
    "pycharm": {
     "name": "#%%\n"
    }
   },
   "outputs": [
    {
     "data": {
      "application/vnd.jupyter.widget-view+json": {
       "model_id": "d5c3c1e99e764b40a4dac12d60bc4b77",
       "version_major": 2,
       "version_minor": 0
      },
      "text/plain": [
       "  0%|          | 0/15655 [00:00<?, ?it/s]"
      ]
     },
     "metadata": {},
     "output_type": "display_data"
    },
    {
     "data": {
      "application/vnd.jupyter.widget-view+json": {
       "model_id": "9011a3e044c948f9850a19db02e464bf",
       "version_major": 2,
       "version_minor": 0
      },
      "text/plain": [
       "  0%|          | 0/33664 [00:00<?, ?it/s]"
      ]
     },
     "metadata": {},
     "output_type": "display_data"
    }
   ],
   "source": [
    "demo_icf_path = os.path.join(icf_cls_path, mode+'_ifc.pkl')\n",
    "if os.path.exists(demo_icf_path):\n",
    "    with open(demo_icf_path, 'rb') as file:\n",
    "        demo_icf = pickle.loads(file.read())\n",
    "        file.close()\n",
    "else:\n",
    "    demo_icf = ItemCF(train_data, item2cate)\n",
    "    demo_icf.calculate_similarity_matrix()\n",
    "    demo_icf_pkl = pickle.dumps(demo_icf)\n",
    "\n",
    "    output_icf = open(demo_icf_path, 'wb')\n",
    "    output_icf.write(demo_icf_pkl)\n",
    "    output_icf.close()"
   ]
  },
  {
   "cell_type": "code",
   "execution_count": 13,
   "metadata": {
    "collapsed": false,
    "pycharm": {
     "name": "#%%\n"
    }
   },
   "outputs": [
    {
     "name": "stdout",
     "output_type": "stream",
     "text": [
      "开始ItemCF召回: Recall@100-Near@50\n"
     ]
    },
    {
     "data": {
      "application/vnd.jupyter.widget-view+json": {
       "model_id": "afe3cbc4db0f423c9a62c7bede9befa2",
       "version_major": 2,
       "version_minor": 0
      },
      "text/plain": [
       "  0%|          | 0/13792 [00:00<?, ?it/s]"
      ]
     },
     "metadata": {},
     "output_type": "display_data"
    }
   ],
   "source": [
    "n, topk = 50, 100\n",
    "\n",
    "# 召回\n",
    "test_users = test_data['user_id'].unique()\n",
    "icf_rec_result = demo_icf(test_users, n, topk)\n",
    "\n",
    "test_user_group = test_data.groupby('user_id')['item_id'].agg(list).reset_index()\n",
    "test_pred = [icf_rec_result[user_id] for user_id in test_user_group['user_id']]\n",
    "test_true = test_user_group['item_id'].to_list()"
   ]
  },
  {
   "cell_type": "code",
   "execution_count": 14,
   "metadata": {
    "collapsed": false,
    "pycharm": {
     "name": "#%%\n"
    }
   },
   "outputs": [
    {
     "name": "stdout",
     "output_type": "stream",
     "text": [
      "MAP@100:  0.016906571748779006\n",
      "Recall@100:  0.15798311228206416\n",
      "Precision@100:  0.027745069605568447\n",
      "F1@100:  0.03914852311427278\n"
     ]
    }
   ],
   "source": [
    "PrintMetric(test_true, test_pred, topk)"
   ]
  },
  {
   "cell_type": "code",
   "execution_count": null,
   "metadata": {
    "collapsed": false,
    "pycharm": {
     "name": "#%%\n"
    }
   },
   "outputs": [],
   "source": []
  }
 ],
 "metadata": {
  "kernelspec": {
   "display_name": "Python 3 (ipykernel)",
   "language": "python",
   "name": "python3"
  },
  "language_info": {
   "codemirror_mode": {
    "name": "ipython",
    "version": 3
   },
   "file_extension": ".py",
   "mimetype": "text/x-python",
   "name": "python",
   "nbconvert_exporter": "python",
   "pygments_lexer": "ipython3",
   "version": "3.8.19"
  }
 },
 "nbformat": 4,
 "nbformat_minor": 5
}
